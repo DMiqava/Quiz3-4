{
 "cells": [
  {
   "cell_type": "markdown",
   "metadata": {},
   "source": [
    "1. (L6 – 3 ქულა) გამოიყენეთ მონაცემთა წმედის რომელიმე ფუნქციონალი (მაგ. რომელიმე სვეტის მონაცემები\n",
    "გადაანაწილეთ რამდენიმე ახალ სვეტად, წაშალეთ რომელიმე სვეტი, ცარიელი მნიშვნელობებისთვის\n",
    "გამოიყენეთ სასურველი ფორმატი, ა.შ.)"
   ]
  },
  {
   "cell_type": "code",
   "execution_count": 11,
   "metadata": {},
   "outputs": [],
   "source": [
    "import pandas as pd\n",
    "df = pd.read_csv('Earthquakes_database.csv')"
   ]
  },
  {
   "cell_type": "code",
   "execution_count": null,
   "metadata": {},
   "outputs": [],
   "source": [
    "# Inspect the data\n",
    "print(df.head())\n",
    "\n",
    "# Drop columns where all values are NaN\n",
    "df = df.dropna(axis=1, how='all')\n",
    "\n",
    "# Drop rows where any critical column has NaN values\n",
    "# For example, let's say 'Magnitude' is a critical column:\n",
    "df = df.dropna(subset=['Magnitude'])\n",
    "\n",
    "# Alternatively, fill missing values with a placeholder\n",
    "df['Depth'] = df['Depth'].fillna(df['Depth'].mean())\n",
    "\n",
    "# Split the 'Date' column into 'Year', 'Month', 'Day'\n",
    "df[['Year', 'Month', 'Day']] = df['Date'].str.split('-', expand=True)\n",
    "\n",
    "# Drop columns with a high percentage of NaN values\n",
    "threshold = 0.7  # Drop columns with more than 70% NaN values\n",
    "df = df.dropna(thresh=len(df) * (1 - threshold), axis=1)\n",
    "\n",
    "# Convert 'Magnitude' to numeric format\n",
    "df['Magnitude'] = pd.to_numeric(df['Magnitude'], errors='coerce')\n",
    "\n",
    "# Drop any column that might have become irrelevant after cleaning\n",
    "df = df.drop(columns=['ID'])\n",
    "\n",
    "# Final inspection of the cleaned data\n",
    "print(df.head())\n",
    "print(df.info())\n",
    "\n"
   ]
  },
  {
   "cell_type": "markdown",
   "metadata": {},
   "source": [
    "2. (L7 – 3 ქულა) რიცხვითი ტიპის ველის მონაცემები დაყავით კატეგორიებად cut() ფუნქციის გამოყენებით (მაგ.\n",
    "ასაკის ველი 3 კატეგორიად „Children”, “Adolescent”, “Old”). შესაბამისად დაამატეთ კატეგორიის სვეტი."
   ]
  },
  {
   "cell_type": "code",
   "execution_count": null,
   "metadata": {},
   "outputs": [],
   "source": [
    "# Inspect the 'Magnitude' field\n",
    "print(df['Magnitude'].describe())  # Summary statistics of the 'Magnitude' field\n",
    "\n",
    "# Assuming Magnitude ranges from 0 to 10\n",
    "bins = [0, 4, 6, 10]  # These bins will create intervals: 0-4, 4-6, and 6-10\n",
    "labels = ['Low', 'Medium', 'High']\n",
    "\n",
    "# Use the cut() function to create the categories\n",
    "df['Magnitude Category'] = pd.cut(df['Magnitude'], bins=bins, labels=labels, include_lowest=True)\n",
    "\n",
    "# Inspect the new column\n",
    "print(df[['Magnitude', 'Magnitude Category']].head())\n",
    "\n"
   ]
  },
  {
   "cell_type": "markdown",
   "metadata": {},
   "source": [
    "3. (L9 – 3 ქულა) გამოიყენეთ მონაცემთა “Reshaping”-ის ჩამოთვლილი ფუნქციებიდან რომელიმე 2 მათგანი\n",
    "(stack(), unstack(), melt(), pivot(), explode(), pivot_table(), Crosstab())"
   ]
  },
  {
   "cell_type": "code",
   "execution_count": null,
   "metadata": {},
   "outputs": [],
   "source": [
    "# 1. Use melt() to reshape the data\n",
    "# Let's say we want to melt the 'Latitude', 'Longitude', and 'Magnitude' columns\n",
    "melted_df = df.melt(id_vars=['Date', 'Time', 'Type'], value_vars=['Latitude', 'Longitude', 'Magnitude'],\n",
    "                    var_name='Measurement', value_name='Value')\n",
    "\n",
    "print(\"\\nMelted DataFrame:\")\n",
    "print(melted_df.head())\n",
    "\n",
    "# 2. Use pivot_table() to create a summary table\n",
    "# Let's summarize the data by 'Type' and calculate the average 'Magnitude' for each 'Type'\n",
    "pivot_table = df.pivot_table(values='Magnitude', index='Type', aggfunc='mean')\n",
    "\n",
    "print(\"\\nPivot Table:\")\n",
    "print(pivot_table)"
   ]
  },
  {
   "cell_type": "markdown",
   "metadata": {},
   "source": [
    "4. (L10 - 3 ქულა) ააგეთ თქვენთვის სასურველი 4 განსხვავებული დიაგრამა შემდეგი ტიპებიდან (ხაზოვანი\n",
    "დიაგრამა, სვეტოვანი დიაგრამა, გაფანტულობის დიაგრამა, წრიული დიაგრამა, ჰისტოგრამა)."
   ]
  },
  {
   "cell_type": "code",
   "execution_count": 16,
   "metadata": {},
   "outputs": [],
   "source": [
    "import pandas as pd\n",
    "import matplotlib.pyplot as plt\n",
    "import seaborn as sns\n",
    "\n",
    "df = pd.read_csv('Earthquakes_database.csv')\n"
   ]
  },
  {
   "cell_type": "code",
   "execution_count": null,
   "metadata": {},
   "outputs": [],
   "source": [
    "# 1. Bar Chart: Count of different 'Types' of events\n",
    "plt.figure(figsize=(10, 6))\n",
    "sns.countplot(data=df, x='Type', palette='viridis')\n",
    "plt.title('Count of Different Types of Events')\n",
    "plt.xlabel('Type')\n",
    "plt.ylabel('Count')\n",
    "plt.xticks(rotation=45)\n",
    "plt.show()"
   ]
  },
  {
   "cell_type": "code",
   "execution_count": null,
   "metadata": {},
   "outputs": [],
   "source": [
    "# 2. Scatter Chart: 'Magnitude' vs. 'Depth'\n",
    "plt.figure(figsize=(10, 6))\n",
    "sns.scatterplot(data=df, x='Depth', y='Magnitude', hue='Type', palette='viridis', s=100, alpha=0.7)\n",
    "plt.title('Magnitude vs. Depth')\n",
    "plt.xlabel('Depth')\n",
    "plt.ylabel('Magnitude')\n",
    "plt.legend(title='Type')\n",
    "plt.tight_layout()\n",
    "plt.show()"
   ]
  },
  {
   "cell_type": "code",
   "execution_count": null,
   "metadata": {},
   "outputs": [],
   "source": [
    "# 3. Pie Chart: Distribution of event 'Type'\n",
    "plt.figure(figsize=(8, 8))\n",
    "type_counts = df['Type'].value_counts()\n",
    "type_counts.plot(kind='pie', autopct='%1.1f%%', colors=sns.color_palette('pastel'), startangle=140)\n",
    "plt.title('Distribution of Event Types')\n",
    "plt.ylabel('')  # Hides the y-label\n",
    "plt.show()"
   ]
  },
  {
   "cell_type": "code",
   "execution_count": null,
   "metadata": {},
   "outputs": [],
   "source": [
    "# 4. Histogram: Distribution of 'Magnitude' values\n",
    "plt.figure(figsize=(10, 6))\n",
    "sns.histplot(df['Magnitude'], bins=20, kde=True, color='salmon')\n",
    "plt.title('Distribution of Magnitude')\n",
    "plt.xlabel('Magnitude')\n",
    "plt.ylabel('Frequency')\n",
    "plt.tight_layout()\n",
    "plt.show()"
   ]
  },
  {
   "cell_type": "markdown",
   "metadata": {},
   "source": [
    "5. (L11 – 2 ქულა) გამოიყენეთ თარიღებთან სამუშაო მინიმუმ 2 განსხვავებული ფუნქცია/ტრანსფორმაცია\n",
    "სურვილისამებრ (მაგ. resample ფუნქცია)."
   ]
  },
  {
   "cell_type": "code",
   "execution_count": null,
   "metadata": {},
   "outputs": [],
   "source": []
  }
 ],
 "metadata": {
  "kernelspec": {
   "display_name": "Python 3",
   "language": "python",
   "name": "python3"
  },
  "language_info": {
   "codemirror_mode": {
    "name": "ipython",
    "version": 3
   },
   "file_extension": ".py",
   "mimetype": "text/x-python",
   "name": "python",
   "nbconvert_exporter": "python",
   "pygments_lexer": "ipython3",
   "version": "3.11.5"
  }
 },
 "nbformat": 4,
 "nbformat_minor": 2
}
